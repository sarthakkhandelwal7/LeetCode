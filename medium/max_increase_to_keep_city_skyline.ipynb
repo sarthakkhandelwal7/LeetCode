{
 "cells": [
  {
   "cell_type": "code",
   "execution_count": null,
   "metadata": {},
   "outputs": [],
   "source": [
    "class Solution(object):\n",
    "    def maxIncreaseKeepingSkyline(self, grid):\n",
    "        \"\"\"\n",
    "            column_largest: Stores largest element in each column\n",
    "            rows_largest  : Stores largest element in each row\n",
    "            s             : Stores sum of all increments\n",
    "        \"\"\"\n",
    "        \n",
    "        largest = 0\n",
    "        s = 0\n",
    "        column_largest = [0]*len(grid)\n",
    "        rows_largest = []\n",
    "        \n",
    "        for i,arr in enumerate(grid):\n",
    "            #Stores largest element in row and column\n",
    "            for j,val in enumerate(arr):\n",
    "                \n",
    "                if val>largest:\n",
    "                    largest = val\n",
    "                    \n",
    "                #Stores largest element in a column\n",
    "                if val>column_largest[j]:\n",
    "                    column_largest[j] = val\n",
    "            #Stores largest element in a row\n",
    "            rows_largest.append(largest)\n",
    "            largest = 0\n",
    "        \n",
    "        for i in range(len(grid)):\n",
    "            for j in range(len(grid[0])):\n",
    "                \n",
    "                if rows_largest[i]<column_largest[j]:\n",
    "                    s += abs(grid[i][j] - rows_largest[i])\n",
    "                    grid[i][j] = rows_largest[i]\n",
    "                \n",
    "                else:            \n",
    "                    s += abs(grid[i][j] - column_largest[j])\n",
    "                    grid[i][j] = column_largest[j]\n",
    "        return s"
   ]
  },
  {
   "cell_type": "code",
   "execution_count": null,
   "metadata": {},
   "outputs": [],
   "source": [
    "Solution().maxIncreaseKeepingSkyline([[3,0,8,4],[2,4,5,7],[9,2,6,3],[0,3,1,0]])"
   ]
  }
 ],
 "metadata": {
  "kernelspec": {
   "display_name": "Python 3",
   "language": "python",
   "name": "python3"
  },
  "language_info": {
   "codemirror_mode": {
    "name": "ipython",
    "version": 3
   },
   "file_extension": ".py",
   "mimetype": "text/x-python",
   "name": "python",
   "nbconvert_exporter": "python",
   "pygments_lexer": "ipython3",
   "version": "3.7.3"
  }
 },
 "nbformat": 4,
 "nbformat_minor": 2
}
