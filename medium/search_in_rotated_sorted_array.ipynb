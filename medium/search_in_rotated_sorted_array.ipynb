{
 "cells": [
  {
   "cell_type": "code",
   "execution_count": null,
   "metadata": {},
   "outputs": [],
   "source": [
    "class Solution(object):\n",
    "    def search(self, nums, target):\n",
    "        \"\"\"\n",
    "        :type nums: List[int]\n",
    "        :type target: int\n",
    "        :rtype: int\n",
    "        \"\"\"\n",
    "        if len(nums):\n",
    "            return self.search1(nums,0,len(nums)-1,target)\n",
    "        else:\n",
    "            return -1\n",
    "    \n",
    "    def search1(self,arr,lower,upper,target):\n",
    "        \"\"\"\n",
    "            mid:   Holds middle index of array\n",
    "            lower: Holds the lower index of current part of the array\n",
    "            upper: Holds the upper index of current part of the array\n",
    "            \n",
    "        \"\"\"\n",
    "        mid = int((lower+upper)/2)\n",
    "        \n",
    "        #Search target if arr[lower:upper] is sorted\n",
    "        if arr[lower]<=arr[upper]:\n",
    "            return self.binary_search(arr,lower,upper,target)\n",
    "        \n",
    "        #Searching in arr[lower:mid] part of array\n",
    "        elif arr[lower]<=arr[mid]:\n",
    "            \n",
    "            if arr[lower]<= target <= arr[mid]:\n",
    "                return self.binary_search(arr,lower,mid,target)\n",
    "            else:\n",
    "                return self.search1(arr,mid+1,upper,target)\n",
    "        \n",
    "        #Searching in arr[mid:upper] part of array\n",
    "        else:\n",
    "            if arr[mid]<= target <= arr[upper]:\n",
    "                return self.binary_search(arr,mid,upper,target)\n",
    "            else:\n",
    "                return self.search1(arr,lower,mid,target)\n",
    "            \n",
    "    def binary_search(self,arr,lower,upper,target):\n",
    "        while upper >= lower:\n",
    "            mid = int((lower+upper)/2)\n",
    "            if arr[mid] == target:\n",
    "                return mid\n",
    "            elif target<arr[mid]:\n",
    "                upper = mid-1\n",
    "            else:\n",
    "                lower = mid+1\n",
    "        if upper<lower:\n",
    "            return -1"
   ]
  },
  {
   "cell_type": "code",
   "execution_count": null,
   "metadata": {},
   "outputs": [],
   "source": [
    "Solution().search([4,5,6,7,8,1,2,3],-1)"
   ]
  }
 ],
 "metadata": {
  "kernelspec": {
   "display_name": "Python 3",
   "language": "python",
   "name": "python3"
  },
  "language_info": {
   "codemirror_mode": {
    "name": "ipython",
    "version": 3
   },
   "file_extension": ".py",
   "mimetype": "text/x-python",
   "name": "python",
   "nbconvert_exporter": "python",
   "pygments_lexer": "ipython3",
   "version": "3.7.3"
  }
 },
 "nbformat": 4,
 "nbformat_minor": 2
}
