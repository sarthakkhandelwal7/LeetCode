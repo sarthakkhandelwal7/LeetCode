{
 "cells": [
  {
   "cell_type": "code",
   "execution_count": 17,
   "metadata": {},
   "outputs": [],
   "source": [
    "class Solution(object):\n",
    "    def setZeroes(self, matrix):\n",
    "        row = False\n",
    "        column = False\n",
    "        for i in range(1,len(matrix[0])):\n",
    "            if matrix[0][i] == 0:\n",
    "                row = True\n",
    "                break\n",
    "                \n",
    "        for i in range(1,len(matrix)):\n",
    "            if matrix[i][0] == 0:\n",
    "                column = True\n",
    "                break\n",
    "                \n",
    "        for r in range(1,len(matrix)):\n",
    "            for c in range(1,len(matrix[0])):\n",
    "                if matrix[r][c] == 0:\n",
    "                    matrix[r][0] = 0\n",
    "                    matrix[0][c] = 0\n",
    "                    \n",
    "        for r in range(1,len(matrix)):\n",
    "            if matrix[r][0] == 0:\n",
    "                for i in range(1,len(matrix[0])):\n",
    "                    matrix[r][i] = 0\n",
    "                    \n",
    "        for c in range(1,len(matrix[0])):\n",
    "            if matrix[0][c] == 0:\n",
    "                for i in range(len(matrix)):\n",
    "                    matrix[i][c] = 0\n",
    "        if row or matrix[0][0] == 0:\n",
    "            for i in range(1,len(matrix[0])):\n",
    "                matrix[0][i] = 0\n",
    "        if column or matrix[0][0] == 0:\n",
    "            for i in range(1,len(matrix)):\n",
    "                matrix[i][0] = 0\n",
    "        if column or row:\n",
    "            matrix[0][0] = 0\n",
    "        return matrix"
   ]
  },
  {
   "cell_type": "code",
   "execution_count": 18,
   "metadata": {},
   "outputs": [
    {
     "data": {
      "text/plain": [
       "[[0, 0, 0, 0, 0], [0, 0, 0, 0, 0], [2147483647, 2, -9, -6, 0]]"
      ]
     },
     "execution_count": 18,
     "metadata": {},
     "output_type": "execute_result"
    }
   ],
   "source": [
    "Solution().setZeroes([[-4,-2147483648,6,-7,0],[-8,6,-8,-6,0],[2147483647,2,-9,-6,-10]])"
   ]
  },
  {
   "cell_type": "code",
   "execution_count": null,
   "metadata": {},
   "outputs": [],
   "source": []
  },
  {
   "cell_type": "code",
   "execution_count": null,
   "metadata": {},
   "outputs": [],
   "source": []
  }
 ],
 "metadata": {
  "kernelspec": {
   "display_name": "Python 3",
   "language": "python",
   "name": "python3"
  },
  "language_info": {
   "codemirror_mode": {
    "name": "ipython",
    "version": 3
   },
   "file_extension": ".py",
   "mimetype": "text/x-python",
   "name": "python",
   "nbconvert_exporter": "python",
   "pygments_lexer": "ipython3",
   "version": "3.7.3"
  }
 },
 "nbformat": 4,
 "nbformat_minor": 2
}
