{
 "cells": [
  {
   "cell_type": "code",
   "execution_count": null,
   "metadata": {},
   "outputs": [],
   "source": [
    "\"\"\"\n",
    "    Given a sorted linked list, delete all nodes that have duplicate\n",
    "    numbers,leaving only distinct numbers from the original list.\n",
    "\"\"\"\n",
    "class Node(object):\n",
    "    def __init__(self, x):\n",
    "        self.val = x\n",
    "        self.next = None\n",
    "\n",
    "class Solution(object):\n",
    "    def deleteDuplicates(self, head):\n",
    "        duplicates = False\n",
    "        \n",
    "        if head == None or head == None:\n",
    "            return head\n",
    "        else:\n",
    "            dummy = Node(None)\n",
    "            dummy.next = head\n",
    "            previous = dummy\n",
    "            curr = head\n",
    "            \n",
    "        while curr.next:\n",
    "            if curr.val == curr.next.val:\n",
    "                curr = curr.next\n",
    "                duplicates = True\n",
    "            else:\n",
    "                if duplicates:\n",
    "                    previous.next = curr.next\n",
    "                    curr = curr.next\n",
    "                    duplicates = False\n",
    "                \n",
    "                else:\n",
    "                    previous = curr\n",
    "                    curr = curr.next\n",
    "        if duplicates:\n",
    "            previous.next = curr.next\n",
    "            curr = curr.next\n",
    "        return dummy.next"
   ]
  }
 ],
 "metadata": {
  "kernelspec": {
   "display_name": "Python 3",
   "language": "python",
   "name": "python3"
  },
  "language_info": {
   "codemirror_mode": {
    "name": "ipython",
    "version": 3
   },
   "file_extension": ".py",
   "mimetype": "text/x-python",
   "name": "python",
   "nbconvert_exporter": "python",
   "pygments_lexer": "ipython3",
   "version": "3.7.3"
  }
 },
 "nbformat": 4,
 "nbformat_minor": 2
}
