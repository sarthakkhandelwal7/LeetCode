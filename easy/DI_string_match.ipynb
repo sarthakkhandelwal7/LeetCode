{
 "cells": [
  {
   "cell_type": "code",
   "execution_count": null,
   "metadata": {},
   "outputs": [],
   "source": [
    "class Solution(object):\n",
    "    def diStringMatch(self, S):\n",
    "        \"\"\"\n",
    "        :type S: str\n",
    "        :rtype: List[int]\n",
    "        \"\"\"\n",
    "        permutation = []\n",
    "        low = 0\n",
    "        high = len(S)\n",
    "        for i in S:\n",
    "            if i == 'I':\n",
    "                permutation.append(low)\n",
    "                low+=1\n",
    "            else:\n",
    "                permutation.append(high)\n",
    "                high-=1\n",
    "        permutation.append(low)\n",
    "        return permutation"
   ]
  }
 ],
 "metadata": {
  "kernelspec": {
   "display_name": "Python 3",
   "language": "python",
   "name": "python3"
  },
  "language_info": {
   "codemirror_mode": {
    "name": "ipython",
    "version": 3
   },
   "file_extension": ".py",
   "mimetype": "text/x-python",
   "name": "python",
   "nbconvert_exporter": "python",
   "pygments_lexer": "ipython3",
   "version": "3.7.3"
  }
 },
 "nbformat": 4,
 "nbformat_minor": 2
}
