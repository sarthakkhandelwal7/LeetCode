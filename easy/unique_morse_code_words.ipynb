{
 "cells": [
  {
   "cell_type": "code",
   "execution_count": null,
   "metadata": {},
   "outputs": [],
   "source": [
    "class Solution:\n",
    "    def uniqueMorseRepresentations(self, words) -> int:\n",
    "        \"\"\"\n",
    "            morse_code: Stores the morse code\n",
    "            mark:       Keeps the list of words with same morse code\n",
    "            count:      Number of unique morse code\n",
    "        \"\"\"\n",
    "        alphabet = [\".-\",\"-...\",\"-.-.\",\"-..\",\".\",\"..-.\",\"--.\",\"....\",\"..\",\".---\",\"-.-\",\".-..\",\"--\",\"-.\",\"---\",\".--.\",\"--.-\",\".-.\",\"...\",\"-\",\"..-\",\"...-\",\".--\",\"-..-\",\"-.--\",\"--..\"]\n",
    "        morse_code = []\n",
    "        mark = [1]*len(words)\n",
    "        temp = ''\n",
    "        count = 0\n",
    "        \n",
    "        #Gets the morse code for every word\n",
    "        for i in words:\n",
    "            for j in i:\n",
    "                temp+=(alphabet[ord(j)-97])\n",
    "            morse_code.append(temp)\n",
    "            temp = ''\n",
    "        \n",
    "        #Check for the unique for the number of unique morse code\n",
    "        for i in range(len(morse_code)):\n",
    "            if mark[i]:\n",
    "                count+=1\n",
    "                for j in range(len(morse_code)):\n",
    "                    if i != j and morse_code[i] == morse_code[j]:\n",
    "                        mark[j] = 0\n",
    "            mark[i] = 0\n",
    "        if count == 0 and morse_code:\n",
    "            return 1\n",
    "        else:\n",
    "            return int(count)"
   ]
  }
 ],
 "metadata": {
  "kernelspec": {
   "display_name": "Python 3",
   "language": "python",
   "name": "python3"
  },
  "language_info": {
   "codemirror_mode": {
    "name": "ipython",
    "version": 3
   },
   "file_extension": ".py",
   "mimetype": "text/x-python",
   "name": "python",
   "nbconvert_exporter": "python",
   "pygments_lexer": "ipython3",
   "version": "3.7.3"
  }
 },
 "nbformat": 4,
 "nbformat_minor": 2
}
