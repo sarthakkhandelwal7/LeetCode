{
 "cells": [
  {
   "cell_type": "code",
   "execution_count": null,
   "metadata": {},
   "outputs": [],
   "source": [
    "class Solution:\n",
    "    def merge(self, array_1, m, array_2, n):\n",
    "        \"\"\"\n",
    "            index_1:      Holds index of last element in the array 1\n",
    "            index_2:      Holds index of last element in the array 2\n",
    "            index_merged: Hold index of last empty cell\n",
    "        \"\"\"\n",
    "        index_1 = m-1\n",
    "        index_merged = len(array_1)-1\n",
    "        index_2 = n-1\n",
    "        \n",
    "        while(index_2 != -1):\n",
    "            if index_1>=0:\n",
    "                if array_1[index_1]>array_2[index_2]:\n",
    "                    array_1[index_merged] = array_1[index_1]\n",
    "                    index_1-=1\n",
    "                else:\n",
    "                    array_1[index_merged] = array_2[index_2]\n",
    "                    index_2-=1\n",
    "                index_merged-=1\n",
    "            else:\n",
    "                array_1[index_merged] = array_2[index_2]\n",
    "                index_merged-=1\n",
    "                index_2-=1\n",
    "        return array_1"
   ]
  }
 ],
 "metadata": {
  "kernelspec": {
   "display_name": "Python 3",
   "language": "python",
   "name": "python3"
  },
  "language_info": {
   "codemirror_mode": {
    "name": "ipython",
    "version": 3
   },
   "file_extension": ".py",
   "mimetype": "text/x-python",
   "name": "python",
   "nbconvert_exporter": "python",
   "pygments_lexer": "ipython3",
   "version": "3.7.3"
  }
 },
 "nbformat": 4,
 "nbformat_minor": 2
}
