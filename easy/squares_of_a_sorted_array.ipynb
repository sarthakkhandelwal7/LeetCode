{
 "cells": [
  {
   "cell_type": "code",
   "execution_count": null,
   "metadata": {},
   "outputs": [],
   "source": [
    "from bisect import bisect_left\n",
    "class Solution:\n",
    "    def sortedSquares(self, A):\n",
    "        squared = []\n",
    "        i = bisect_left(A,0)\n",
    "        print(i)\n",
    "        left = i-1\n",
    "        right = i      \n",
    "        \n",
    "        while A and len(squared) != len(A):\n",
    "            try:\n",
    "                if abs(A[left]) <= abs(A[right]):\n",
    "                    squared.append(pow(A[left],2))\n",
    "                    left-=1\n",
    "                else:\n",
    "                    squared.append(pow(A[right],2))\n",
    "                    right+=1\n",
    "            except:\n",
    "                if left<-1:\n",
    "                    squared.append(pow(A[right],2))\n",
    "                    right+=1\n",
    "                else:\n",
    "                    squared.append(pow(A[left],2))\n",
    "                    left-=1\n",
    "        return squared"
   ]
  },
  {
   "cell_type": "code",
   "execution_count": null,
   "metadata": {},
   "outputs": [],
   "source": [
    "Solution().sortedSquares([-4,-1,0,3,10])"
   ]
  }
 ],
 "metadata": {
  "kernelspec": {
   "display_name": "Python 3",
   "language": "python",
   "name": "python3"
  },
  "language_info": {
   "codemirror_mode": {
    "name": "ipython",
    "version": 3
   },
   "file_extension": ".py",
   "mimetype": "text/x-python",
   "name": "python",
   "nbconvert_exporter": "python",
   "pygments_lexer": "ipython3",
   "version": "3.7.3"
  }
 },
 "nbformat": 4,
 "nbformat_minor": 2
}
