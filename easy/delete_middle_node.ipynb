{
 "cells": [
  {
   "cell_type": "code",
   "execution_count": 17,
   "metadata": {},
   "outputs": [],
   "source": [
    "class ListNode(object):\n",
    "    def __init__(self, x):\n",
    "        self.val = x\n",
    "        self.next = None\n",
    "\n",
    "class Solution(object):\n",
    "    def middleNode(self, head):\n",
    "        length = self.find_length(head)\n",
    "        middle = int(length/2) \n",
    "        i = 1\n",
    "        curr = head\n",
    "        previous = None\n",
    "        while curr.next:\n",
    "            if i == middle:\n",
    "                return curr.next\n",
    "            previous = curr\n",
    "            curr = curr.next\n",
    "            i += 1\n",
    "        return curr\n",
    "    def find_length(self,head):\n",
    "        length = 0\n",
    "        if head == None:\n",
    "            return 0\n",
    "        else:\n",
    "            \n",
    "            curr = head\n",
    "            while curr:\n",
    "                curr = curr.next\n",
    "                length += 1\n",
    "        return length"
   ]
  },
  {
   "cell_type": "code",
   "execution_count": 23,
   "metadata": {},
   "outputs": [
    {
     "data": {
      "text/plain": [
       "'\\nhead.next = Node(1)\\nhead.next.next = Node(2)\\nhead.next.next.next = Node(3)\\nhead.next.next.next.next = Node(3)\\nhead.next.next.next.next.next = Node(1)\\nhead.next.next.next.next.next.next = Node(5)'"
      ]
     },
     "execution_count": 23,
     "metadata": {},
     "output_type": "execute_result"
    }
   ],
   "source": [
    "head = Node(1)\n",
    "\"\"\"\n",
    "head.next = Node(1)\n",
    "head.next.next = Node(2)\n",
    "head.next.next.next = Node(3)\n",
    "head.next.next.next.next = Node(3)\n",
    "head.next.next.next.next.next = Node(1)\n",
    "head.next.next.next.next.next.next = Node(5)\n",
    "\"\"\""
   ]
  },
  {
   "cell_type": "code",
   "execution_count": 28,
   "metadata": {},
   "outputs": [],
   "source": [
    "def print_ll(temp):\n",
    "    st = ''\n",
    "    while temp:\n",
    "        st += f\"{temp.val}-->\"\n",
    "        temp = temp.next\n",
    "    print(st[:len(st)-3])"
   ]
  },
  {
   "cell_type": "code",
   "execution_count": 29,
   "metadata": {},
   "outputs": [
    {
     "name": "stdout",
     "output_type": "stream",
     "text": [
      "1\n"
     ]
    }
   ],
   "source": [
    "print_ll(head)"
   ]
  },
  {
   "cell_type": "code",
   "execution_count": 30,
   "metadata": {},
   "outputs": [
    {
     "name": "stdout",
     "output_type": "stream",
     "text": [
      "1\n"
     ]
    }
   ],
   "source": [
    "Solution().middleNode(head)"
   ]
  },
  {
   "cell_type": "code",
   "execution_count": null,
   "metadata": {},
   "outputs": [],
   "source": []
  }
 ],
 "metadata": {
  "kernelspec": {
   "display_name": "Python 3",
   "language": "python",
   "name": "python3"
  },
  "language_info": {
   "codemirror_mode": {
    "name": "ipython",
    "version": 3
   },
   "file_extension": ".py",
   "mimetype": "text/x-python",
   "name": "python",
   "nbconvert_exporter": "python",
   "pygments_lexer": "ipython3",
   "version": "3.7.3"
  }
 },
 "nbformat": 4,
 "nbformat_minor": 2
}
