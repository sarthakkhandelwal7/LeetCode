{
 "cells": [
  {
   "cell_type": "code",
   "execution_count": null,
   "metadata": {},
   "outputs": [],
   "source": [
    "class Solution(object):\n",
    "    def countCharacters(self, words, chars):\n",
    "        \"\"\"\n",
    "            type words: List[str]\n",
    "            type chars: str\n",
    "            rtype: int\n",
    "    \n",
    "            alphabet_count: Stores count of each alphabet in chars\n",
    "            sum1          : Stores sum of lengths of all good strings in words\n",
    "        \"\"\"\n",
    "        alphabet_count = [0]*26\n",
    "        sum1 = 0\n",
    "        for i in chars:\n",
    "            alphabet_count[ord(i)-1-96]+=1\n",
    "        \n",
    "        for i in words:\n",
    "            temp = alphabet_count.copy()\n",
    "            good_word = True\n",
    "            for j in i:\n",
    "                if temp[ord(j)-1-96] > 0:\n",
    "                    temp[ord(j)-1-96] -= 1\n",
    "                else:\n",
    "                    good_word = False\n",
    "                    break\n",
    "                \n",
    "            if good_word:\n",
    "                sum1 += len(i)\n",
    "        return sum1\n",
    "                    "
   ]
  },
  {
   "cell_type": "code",
   "execution_count": null,
   "metadata": {},
   "outputs": [],
   "source": [
    "Solution().countCharacters([\"cat\",\"bt\",\"hat\",\"tree\"],\"atach\")"
   ]
  }
 ],
 "metadata": {
  "kernelspec": {
   "display_name": "Python 3",
   "language": "python",
   "name": "python3"
  },
  "language_info": {
   "codemirror_mode": {
    "name": "ipython",
    "version": 3
   },
   "file_extension": ".py",
   "mimetype": "text/x-python",
   "name": "python",
   "nbconvert_exporter": "python",
   "pygments_lexer": "ipython3",
   "version": "3.7.3"
  }
 },
 "nbformat": 4,
 "nbformat_minor": 2
}
