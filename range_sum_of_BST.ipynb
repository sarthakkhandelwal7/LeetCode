{
 "cells": [
  {
   "cell_type": "code",
   "execution_count": null,
   "metadata": {},
   "outputs": [],
   "source": [
    "class TreeNode:\n",
    "    def __init__(self, x):\n",
    "        self.val = x\n",
    "        self.left = None\n",
    "        self.right = None\n",
    "\n",
    "class Solution:\n",
    "    def __init__(self):\n",
    "        self.sum_of_numbers = 0\n",
    "    def rangeSumBST(self, root: TreeNode, L: int, R: int, pos = 0) -> int:\n",
    "        if root:\n",
    "            if root.val>=L and root.val<=R:\n",
    "                self.sum_of_numbers+=root.val\n",
    "            if L<root.val:\n",
    "                self.rangeSumBST(root.left,L,R,pos-1)\n",
    "            if root.val<R:\n",
    "                self.rangeSumBST(root.right,L,R,pos+1)\n",
    "            if pos == 0:\n",
    "                return self.sum_of_numbers"
   ]
  },
  {
   "cell_type": "code",
   "execution_count": null,
   "metadata": {},
   "outputs": [],
   "source": [
    "root = TreeNode(10)\n",
    "root.left = TreeNode(5)\n",
    "root.left.left = TreeNode(3)\n",
    "root.left.left.left = TreeNode(1)\n",
    "root.left.right = TreeNode(7)\n",
    "root.left.right.left = TreeNode(6)\n",
    "root.right = TreeNode(15)\n",
    "root.right.left = TreeNode(13)\n",
    "root.right.right = TreeNode(18)"
   ]
  },
  {
   "cell_type": "code",
   "execution_count": null,
   "metadata": {},
   "outputs": [],
   "source": [
    "s = Solution()\n",
    "print(s.rangeSumBST(root,6,10))\n"
   ]
  }
 ],
 "metadata": {
  "kernelspec": {
   "display_name": "Python 3",
   "language": "python",
   "name": "python3"
  },
  "language_info": {
   "codemirror_mode": {
    "name": "ipython",
    "version": 3
   },
   "file_extension": ".py",
   "mimetype": "text/x-python",
   "name": "python",
   "nbconvert_exporter": "python",
   "pygments_lexer": "ipython3",
   "version": "3.7.3"
  }
 },
 "nbformat": 4,
 "nbformat_minor": 2
}
