{
 "cells": [
  {
   "cell_type": "code",
   "execution_count": null,
   "metadata": {},
   "outputs": [],
   "source": [
    "class Solution:\n",
    "    def removeOuterParentheses(self, S: str) -> str:\n",
    "        \"\"\"\n",
    "            start:       To hold index of outer open bracket ('(')\n",
    "            end:         To hold index of outer closed bracket (')')\n",
    "            outer_count: Number of open beacket ('(')\n",
    "            st:          Hold string with removed parentheses\n",
    "        \"\"\"\n",
    "        st = \"\"\n",
    "        start = 0\n",
    "        end = 0\n",
    "        outer_count = 0\n",
    "        for i in range(len(S)):\n",
    "            if outer_count == 0 and S[i] == '(':\n",
    "                start = i\n",
    "                outer_count+=1\n",
    "            elif S[i] == ')':\n",
    "                if outer_count == 1:\n",
    "                    end = i\n",
    "                outer_count-=1\n",
    "            else:\n",
    "                outer_count += 1\n",
    "            if outer_count == 0 and end>0:\n",
    "                st+= S[start+1:end]\n",
    "                start = 0\n",
    "                end = 0\n",
    "        return st"
   ]
  },
  {
   "cell_type": "code",
   "execution_count": null,
   "metadata": {},
   "outputs": [],
   "source": [
    "Solution().removeOuterParentheses(\"(()())(())(()(()))\")"
   ]
  }
 ],
 "metadata": {
  "kernelspec": {
   "display_name": "Python 3",
   "language": "python",
   "name": "python3"
  },
  "language_info": {
   "codemirror_mode": {
    "name": "ipython",
    "version": 3
   },
   "file_extension": ".py",
   "mimetype": "text/x-python",
   "name": "python",
   "nbconvert_exporter": "python",
   "pygments_lexer": "ipython3",
   "version": "3.7.3"
  }
 },
 "nbformat": 4,
 "nbformat_minor": 2
}
